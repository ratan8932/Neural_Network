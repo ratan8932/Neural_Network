{
 "cells": [
  {
   "cell_type": "markdown",
   "id": "4beca8f0",
   "metadata": {},
   "source": [
    "# Artificial Neural Network"
   ]
  },
  {
   "cell_type": "markdown",
   "id": "15d65011",
   "metadata": {},
   "source": [
    "### Part 1 - Data Preprocessing"
   ]
  },
  {
   "cell_type": "code",
   "execution_count": 1,
   "id": "b58eec44",
   "metadata": {},
   "outputs": [],
   "source": [
    "# Importing the libraries\n",
    "import numpy as np\n",
    "import matplotlib.pyplot as plt\n",
    "import pandas as pd"
   ]
  },
  {
   "cell_type": "code",
   "execution_count": 2,
   "id": "85547a2d",
   "metadata": {},
   "outputs": [],
   "source": [
    "# Importing the dataset\n",
    "dataset = pd.read_csv('https://raw.githubusercontent.com/krishnaik06/Complete-Deep-Learning/master/ANN/Churn_Modelling.csv')\n",
    "X = dataset.iloc[:, 3:13]\n",
    "y = dataset.iloc[:, 13]"
   ]
  },
  {
   "cell_type": "code",
   "execution_count": 3,
   "id": "536936a8",
   "metadata": {},
   "outputs": [],
   "source": [
    "#Create dummy variables\n",
    "geography=pd.get_dummies(X[\"Geography\"],drop_first=True)\n",
    "gender=pd.get_dummies(X['Gender'],drop_first=True)"
   ]
  },
  {
   "cell_type": "markdown",
   "id": "bb87230b",
   "metadata": {},
   "source": [
    "### Concatenate the Data Frames"
   ]
  },
  {
   "cell_type": "code",
   "execution_count": 4,
   "id": "395dcf0d",
   "metadata": {},
   "outputs": [],
   "source": [
    "X=pd.concat([X,geography,gender],axis=1)"
   ]
  },
  {
   "cell_type": "code",
   "execution_count": 5,
   "id": "32fae833",
   "metadata": {},
   "outputs": [],
   "source": [
    "## Drop Unnecessary columns\n",
    "X=X.drop(['Geography','Gender'],axis=1)"
   ]
  },
  {
   "cell_type": "code",
   "execution_count": 6,
   "id": "37c6ab41",
   "metadata": {},
   "outputs": [],
   "source": [
    "# Splitting the dataset into the Training set and Test set\n",
    "from sklearn.model_selection import train_test_split\n",
    "X_train, X_test, y_train, y_test = train_test_split(X, y, test_size = 0.2, random_state = 0)"
   ]
  },
  {
   "cell_type": "code",
   "execution_count": 7,
   "id": "181afed5",
   "metadata": {},
   "outputs": [],
   "source": [
    "# Feature Scaling\n",
    "from sklearn.preprocessing import StandardScaler\n",
    "sc = StandardScaler()\n",
    "X_train = sc.fit_transform(X_train)\n",
    "X_test = sc.transform(X_test)"
   ]
  },
  {
   "cell_type": "markdown",
   "id": "085b1b07",
   "metadata": {},
   "source": [
    "### Part 2 - Now let's make the ANN!"
   ]
  },
  {
   "cell_type": "code",
   "execution_count": 8,
   "id": "25216a7f",
   "metadata": {},
   "outputs": [],
   "source": [
    "# Importing the Keras libraries and packages\n",
    "import keras\n",
    "from keras.models import Sequential\n",
    "from keras.layers import Dense\n",
    "from keras.layers import LeakyReLU,PReLU,ELU\n",
    "from keras.layers import Dropout"
   ]
  },
  {
   "cell_type": "code",
   "execution_count": 9,
   "id": "7b7683ac",
   "metadata": {},
   "outputs": [],
   "source": [
    "# Initialising the ANN\n",
    "classifier = Sequential()"
   ]
  },
  {
   "cell_type": "code",
   "execution_count": 10,
   "id": "1944859e",
   "metadata": {},
   "outputs": [],
   "source": [
    "# Adding the input layer and the first hidden layer\n",
    "classifier.add(Dense(units= 6, kernel_initializer= 'he_uniform',activation='relu',input_dim = 11))"
   ]
  },
  {
   "cell_type": "code",
   "execution_count": 11,
   "id": "f7631188",
   "metadata": {},
   "outputs": [],
   "source": [
    "# Adding the second hidden layer\n",
    "classifier.add(Dense(units = 6, kernel_initializer = 'he_uniform',activation='relu'))"
   ]
  },
  {
   "cell_type": "code",
   "execution_count": 12,
   "id": "7b6927ab",
   "metadata": {},
   "outputs": [],
   "source": [
    "# Adding the output layer\n",
    "classifier.add(Dense(units = 1, kernel_initializer = 'glorot_uniform', activation = 'sigmoid'))"
   ]
  },
  {
   "cell_type": "code",
   "execution_count": 13,
   "id": "e15c5a14",
   "metadata": {},
   "outputs": [],
   "source": [
    "# Compiling the ANN\n",
    "classifier.compile(optimizer = 'Adamax', loss = 'binary_crossentropy', metrics = ['accuracy'])"
   ]
  },
  {
   "cell_type": "code",
   "execution_count": 14,
   "id": "f0fc033e",
   "metadata": {},
   "outputs": [
    {
     "name": "stderr",
     "output_type": "stream",
     "text": [
      "C:\\Users\\win10\\anaconda3\\lib\\site-packages\\keras\\engine\\data_adapter.py:1699: FutureWarning: The behavior of `series[i:j]` with an integer-dtype index is deprecated. In a future version, this will be treated as *label-based* indexing, consistent with e.g. `series[i]` lookups. To retain the old behavior, use `series.iloc[i:j]`. To get the future behavior, use `series.loc[i:j]`.\n",
      "  return t[start:end]\n"
     ]
    },
    {
     "name": "stdout",
     "output_type": "stream",
     "text": [
      "Epoch 1/100\n",
      "536/536 [==============================] - 3s 3ms/step - loss: 0.5487 - accuracy: 0.7936 - val_loss: 0.5196 - val_accuracy: 0.7952\n",
      "Epoch 2/100\n",
      "536/536 [==============================] - 2s 4ms/step - loss: 0.5100 - accuracy: 0.7960 - val_loss: 0.4993 - val_accuracy: 0.7955\n",
      "Epoch 3/100\n",
      "536/536 [==============================] - 2s 3ms/step - loss: 0.4921 - accuracy: 0.7962 - val_loss: 0.4866 - val_accuracy: 0.7955\n",
      "Epoch 4/100\n",
      "536/536 [==============================] - 1s 2ms/step - loss: 0.4798 - accuracy: 0.7962 - val_loss: 0.4771 - val_accuracy: 0.7955\n",
      "Epoch 5/100\n",
      "536/536 [==============================] - 2s 4ms/step - loss: 0.4703 - accuracy: 0.7962 - val_loss: 0.4703 - val_accuracy: 0.7955\n",
      "Epoch 6/100\n",
      "536/536 [==============================] - 2s 4ms/step - loss: 0.4630 - accuracy: 0.7962 - val_loss: 0.4651 - val_accuracy: 0.7955\n",
      "Epoch 7/100\n",
      "536/536 [==============================] - 2s 4ms/step - loss: 0.4570 - accuracy: 0.7962 - val_loss: 0.4611 - val_accuracy: 0.7955\n",
      "Epoch 8/100\n",
      "536/536 [==============================] - 2s 4ms/step - loss: 0.4522 - accuracy: 0.7962 - val_loss: 0.4580 - val_accuracy: 0.7955\n",
      "Epoch 9/100\n",
      "536/536 [==============================] - 1s 2ms/step - loss: 0.4480 - accuracy: 0.7962 - val_loss: 0.4551 - val_accuracy: 0.7955\n",
      "Epoch 10/100\n",
      "536/536 [==============================] - 2s 4ms/step - loss: 0.4445 - accuracy: 0.7964 - val_loss: 0.4530 - val_accuracy: 0.7963\n",
      "Epoch 11/100\n",
      "536/536 [==============================] - 2s 4ms/step - loss: 0.4416 - accuracy: 0.7972 - val_loss: 0.4510 - val_accuracy: 0.7967\n",
      "Epoch 12/100\n",
      "536/536 [==============================] - 2s 3ms/step - loss: 0.4392 - accuracy: 0.7972 - val_loss: 0.4495 - val_accuracy: 0.7967\n",
      "Epoch 13/100\n",
      "536/536 [==============================] - 3s 5ms/step - loss: 0.4372 - accuracy: 0.7972 - val_loss: 0.4482 - val_accuracy: 0.7967\n",
      "Epoch 14/100\n",
      "536/536 [==============================] - 2s 3ms/step - loss: 0.4355 - accuracy: 0.7985 - val_loss: 0.4470 - val_accuracy: 0.7933\n",
      "Epoch 15/100\n",
      "536/536 [==============================] - 3s 5ms/step - loss: 0.4339 - accuracy: 0.7988 - val_loss: 0.4460 - val_accuracy: 0.7944\n",
      "Epoch 16/100\n",
      "536/536 [==============================] - 1s 3ms/step - loss: 0.4326 - accuracy: 0.8015 - val_loss: 0.4448 - val_accuracy: 0.7970\n",
      "Epoch 17/100\n",
      "536/536 [==============================] - 3s 5ms/step - loss: 0.4314 - accuracy: 0.8039 - val_loss: 0.4440 - val_accuracy: 0.7993\n",
      "Epoch 18/100\n",
      "536/536 [==============================] - 2s 3ms/step - loss: 0.4302 - accuracy: 0.8052 - val_loss: 0.4431 - val_accuracy: 0.8001\n",
      "Epoch 19/100\n",
      "536/536 [==============================] - 1s 2ms/step - loss: 0.4292 - accuracy: 0.8080 - val_loss: 0.4424 - val_accuracy: 0.8001\n",
      "Epoch 20/100\n",
      "536/536 [==============================] - 2s 4ms/step - loss: 0.4280 - accuracy: 0.8102 - val_loss: 0.4419 - val_accuracy: 0.8020\n",
      "Epoch 21/100\n",
      "536/536 [==============================] - 2s 4ms/step - loss: 0.4271 - accuracy: 0.8125 - val_loss: 0.4411 - val_accuracy: 0.8042\n",
      "Epoch 22/100\n",
      "536/536 [==============================] - 1s 2ms/step - loss: 0.4262 - accuracy: 0.8115 - val_loss: 0.4404 - val_accuracy: 0.8054\n",
      "Epoch 23/100\n",
      "536/536 [==============================] - 2s 3ms/step - loss: 0.4253 - accuracy: 0.8136 - val_loss: 0.4399 - val_accuracy: 0.8035\n",
      "Epoch 24/100\n",
      "536/536 [==============================] - 2s 4ms/step - loss: 0.4246 - accuracy: 0.8143 - val_loss: 0.4393 - val_accuracy: 0.8042\n",
      "Epoch 25/100\n",
      "536/536 [==============================] - 1s 3ms/step - loss: 0.4238 - accuracy: 0.8138 - val_loss: 0.4388 - val_accuracy: 0.8050\n",
      "Epoch 26/100\n",
      "536/536 [==============================] - 1s 2ms/step - loss: 0.4232 - accuracy: 0.8160 - val_loss: 0.4382 - val_accuracy: 0.8058\n",
      "Epoch 27/100\n",
      "536/536 [==============================] - 2s 4ms/step - loss: 0.4222 - accuracy: 0.8155 - val_loss: 0.4378 - val_accuracy: 0.8065\n",
      "Epoch 28/100\n",
      "536/536 [==============================] - 2s 3ms/step - loss: 0.4217 - accuracy: 0.8160 - val_loss: 0.4371 - val_accuracy: 0.8080\n",
      "Epoch 29/100\n",
      "536/536 [==============================] - 1s 2ms/step - loss: 0.4211 - accuracy: 0.8160 - val_loss: 0.4368 - val_accuracy: 0.8076\n",
      "Epoch 30/100\n",
      "536/536 [==============================] - 2s 3ms/step - loss: 0.4203 - accuracy: 0.8171 - val_loss: 0.4363 - val_accuracy: 0.8076\n",
      "Epoch 31/100\n",
      "536/536 [==============================] - 2s 4ms/step - loss: 0.4196 - accuracy: 0.8175 - val_loss: 0.4358 - val_accuracy: 0.8095\n",
      "Epoch 32/100\n",
      "536/536 [==============================] - 1s 2ms/step - loss: 0.4190 - accuracy: 0.8177 - val_loss: 0.4355 - val_accuracy: 0.8080\n",
      "Epoch 33/100\n",
      "536/536 [==============================] - 1s 2ms/step - loss: 0.4184 - accuracy: 0.8179 - val_loss: 0.4351 - val_accuracy: 0.8107\n",
      "Epoch 34/100\n",
      "536/536 [==============================] - 2s 4ms/step - loss: 0.4178 - accuracy: 0.8190 - val_loss: 0.4349 - val_accuracy: 0.8088\n",
      "Epoch 35/100\n",
      "536/536 [==============================] - 2s 3ms/step - loss: 0.4172 - accuracy: 0.8197 - val_loss: 0.4346 - val_accuracy: 0.8084\n",
      "Epoch 36/100\n",
      "536/536 [==============================] - 1s 2ms/step - loss: 0.4168 - accuracy: 0.8196 - val_loss: 0.4342 - val_accuracy: 0.8088\n",
      "Epoch 37/100\n",
      "536/536 [==============================] - 1s 2ms/step - loss: 0.4164 - accuracy: 0.8194 - val_loss: 0.4340 - val_accuracy: 0.8099\n",
      "Epoch 38/100\n",
      "536/536 [==============================] - 2s 4ms/step - loss: 0.4159 - accuracy: 0.8203 - val_loss: 0.4337 - val_accuracy: 0.8084\n",
      "Epoch 39/100\n",
      "536/536 [==============================] - 1s 3ms/step - loss: 0.4155 - accuracy: 0.8214 - val_loss: 0.4334 - val_accuracy: 0.8099\n",
      "Epoch 40/100\n",
      "536/536 [==============================] - 1s 2ms/step - loss: 0.4151 - accuracy: 0.8203 - val_loss: 0.4332 - val_accuracy: 0.8069\n",
      "Epoch 41/100\n",
      "536/536 [==============================] - 1s 2ms/step - loss: 0.4147 - accuracy: 0.8203 - val_loss: 0.4329 - val_accuracy: 0.8076\n",
      "Epoch 42/100\n",
      "536/536 [==============================] - 2s 4ms/step - loss: 0.4143 - accuracy: 0.8203 - val_loss: 0.4326 - val_accuracy: 0.8076\n",
      "Epoch 43/100\n",
      "536/536 [==============================] - 1s 3ms/step - loss: 0.4137 - accuracy: 0.8207 - val_loss: 0.4323 - val_accuracy: 0.8099\n",
      "Epoch 44/100\n",
      "536/536 [==============================] - 1s 2ms/step - loss: 0.4134 - accuracy: 0.8207 - val_loss: 0.4319 - val_accuracy: 0.8118\n",
      "Epoch 45/100\n",
      "536/536 [==============================] - 1s 3ms/step - loss: 0.4129 - accuracy: 0.8218 - val_loss: 0.4317 - val_accuracy: 0.8107\n",
      "Epoch 46/100\n",
      "536/536 [==============================] - 2s 3ms/step - loss: 0.4125 - accuracy: 0.8214 - val_loss: 0.4314 - val_accuracy: 0.8126\n",
      "Epoch 47/100\n",
      "536/536 [==============================] - 1s 2ms/step - loss: 0.4120 - accuracy: 0.8235 - val_loss: 0.4312 - val_accuracy: 0.8118\n",
      "Epoch 48/100\n",
      "536/536 [==============================] - 1s 2ms/step - loss: 0.4116 - accuracy: 0.8225 - val_loss: 0.4310 - val_accuracy: 0.8137\n",
      "Epoch 49/100\n",
      "536/536 [==============================] - 1s 2ms/step - loss: 0.4113 - accuracy: 0.8231 - val_loss: 0.4306 - val_accuracy: 0.8133\n",
      "Epoch 50/100\n",
      "536/536 [==============================] - 2s 3ms/step - loss: 0.4109 - accuracy: 0.8237 - val_loss: 0.4303 - val_accuracy: 0.8129\n",
      "Epoch 51/100\n",
      "536/536 [==============================] - 2s 4ms/step - loss: 0.4105 - accuracy: 0.8229 - val_loss: 0.4300 - val_accuracy: 0.8145\n",
      "Epoch 52/100\n",
      "536/536 [==============================] - 1s 2ms/step - loss: 0.4101 - accuracy: 0.8229 - val_loss: 0.4297 - val_accuracy: 0.8141\n",
      "Epoch 53/100\n",
      "536/536 [==============================] - 1s 2ms/step - loss: 0.4098 - accuracy: 0.8233 - val_loss: 0.4293 - val_accuracy: 0.8145\n",
      "Epoch 54/100\n",
      "536/536 [==============================] - 1s 2ms/step - loss: 0.4093 - accuracy: 0.8235 - val_loss: 0.4292 - val_accuracy: 0.8145\n",
      "Epoch 55/100\n",
      "536/536 [==============================] - 1s 3ms/step - loss: 0.4090 - accuracy: 0.8244 - val_loss: 0.4288 - val_accuracy: 0.8164\n",
      "Epoch 56/100\n",
      "536/536 [==============================] - 2s 3ms/step - loss: 0.4087 - accuracy: 0.8242 - val_loss: 0.4289 - val_accuracy: 0.8141\n",
      "Epoch 57/100\n",
      "536/536 [==============================] - 1s 2ms/step - loss: 0.4084 - accuracy: 0.8246 - val_loss: 0.4285 - val_accuracy: 0.8156\n",
      "Epoch 58/100\n",
      "536/536 [==============================] - 1s 2ms/step - loss: 0.4080 - accuracy: 0.8257 - val_loss: 0.4285 - val_accuracy: 0.8152\n",
      "Epoch 59/100\n",
      "536/536 [==============================] - 2s 4ms/step - loss: 0.4078 - accuracy: 0.8253 - val_loss: 0.4279 - val_accuracy: 0.8156\n",
      "Epoch 60/100\n",
      "536/536 [==============================] - 2s 3ms/step - loss: 0.4073 - accuracy: 0.8259 - val_loss: 0.4276 - val_accuracy: 0.8156\n",
      "Epoch 61/100\n",
      "536/536 [==============================] - 1s 2ms/step - loss: 0.4069 - accuracy: 0.8261 - val_loss: 0.4274 - val_accuracy: 0.8156\n",
      "Epoch 62/100\n",
      "536/536 [==============================] - 1s 2ms/step - loss: 0.4066 - accuracy: 0.8248 - val_loss: 0.4271 - val_accuracy: 0.8160\n",
      "Epoch 63/100\n",
      "536/536 [==============================] - 2s 4ms/step - loss: 0.4062 - accuracy: 0.8248 - val_loss: 0.4266 - val_accuracy: 0.8171\n",
      "Epoch 64/100\n",
      "536/536 [==============================] - 2s 3ms/step - loss: 0.4057 - accuracy: 0.8255 - val_loss: 0.4263 - val_accuracy: 0.8160\n",
      "Epoch 65/100\n",
      "536/536 [==============================] - 1s 2ms/step - loss: 0.4055 - accuracy: 0.8265 - val_loss: 0.4260 - val_accuracy: 0.8171\n",
      "Epoch 66/100\n",
      "536/536 [==============================] - 1s 2ms/step - loss: 0.4051 - accuracy: 0.8261 - val_loss: 0.4259 - val_accuracy: 0.8175\n",
      "Epoch 67/100\n",
      "536/536 [==============================] - 2s 4ms/step - loss: 0.4046 - accuracy: 0.8257 - val_loss: 0.4258 - val_accuracy: 0.8167\n",
      "Epoch 68/100\n",
      "536/536 [==============================] - 2s 3ms/step - loss: 0.4044 - accuracy: 0.8272 - val_loss: 0.4256 - val_accuracy: 0.8183\n",
      "Epoch 69/100\n",
      "536/536 [==============================] - 1s 2ms/step - loss: 0.4042 - accuracy: 0.8261 - val_loss: 0.4254 - val_accuracy: 0.8183\n",
      "Epoch 70/100\n",
      "536/536 [==============================] - 1s 2ms/step - loss: 0.4037 - accuracy: 0.8274 - val_loss: 0.4252 - val_accuracy: 0.8164\n",
      "Epoch 71/100\n",
      "536/536 [==============================] - 2s 4ms/step - loss: 0.4034 - accuracy: 0.8291 - val_loss: 0.4254 - val_accuracy: 0.8167\n",
      "Epoch 72/100\n",
      "536/536 [==============================] - 2s 3ms/step - loss: 0.4033 - accuracy: 0.8268 - val_loss: 0.4249 - val_accuracy: 0.8164\n",
      "Epoch 73/100\n",
      "536/536 [==============================] - 1s 2ms/step - loss: 0.4030 - accuracy: 0.8278 - val_loss: 0.4246 - val_accuracy: 0.8179\n",
      "Epoch 74/100\n",
      "536/536 [==============================] - 1s 2ms/step - loss: 0.4028 - accuracy: 0.8266 - val_loss: 0.4248 - val_accuracy: 0.8167\n",
      "Epoch 75/100\n",
      "536/536 [==============================] - 2s 3ms/step - loss: 0.4026 - accuracy: 0.8274 - val_loss: 0.4244 - val_accuracy: 0.8167\n",
      "Epoch 76/100\n",
      "536/536 [==============================] - 1s 2ms/step - loss: 0.4023 - accuracy: 0.8278 - val_loss: 0.4243 - val_accuracy: 0.8175\n",
      "Epoch 77/100\n",
      "536/536 [==============================] - 1s 2ms/step - loss: 0.4022 - accuracy: 0.8285 - val_loss: 0.4243 - val_accuracy: 0.8175\n",
      "Epoch 78/100\n",
      "536/536 [==============================] - 2s 4ms/step - loss: 0.4020 - accuracy: 0.8287 - val_loss: 0.4243 - val_accuracy: 0.8175\n",
      "Epoch 79/100\n",
      "536/536 [==============================] - 1s 2ms/step - loss: 0.4018 - accuracy: 0.8278 - val_loss: 0.4240 - val_accuracy: 0.8183\n",
      "Epoch 80/100\n",
      "536/536 [==============================] - 1s 2ms/step - loss: 0.4016 - accuracy: 0.8276 - val_loss: 0.4239 - val_accuracy: 0.8183\n",
      "Epoch 81/100\n",
      "536/536 [==============================] - 1s 2ms/step - loss: 0.4014 - accuracy: 0.8291 - val_loss: 0.4237 - val_accuracy: 0.8198\n",
      "Epoch 82/100\n",
      "536/536 [==============================] - 2s 3ms/step - loss: 0.4013 - accuracy: 0.8280 - val_loss: 0.4237 - val_accuracy: 0.8198\n",
      "Epoch 83/100\n",
      "536/536 [==============================] - 2s 4ms/step - loss: 0.4012 - accuracy: 0.8283 - val_loss: 0.4235 - val_accuracy: 0.8194\n",
      "Epoch 84/100\n",
      "536/536 [==============================] - 1s 2ms/step - loss: 0.4010 - accuracy: 0.8281 - val_loss: 0.4235 - val_accuracy: 0.8183\n",
      "Epoch 85/100\n",
      "536/536 [==============================] - 1s 2ms/step - loss: 0.4007 - accuracy: 0.8287 - val_loss: 0.4237 - val_accuracy: 0.8190\n",
      "Epoch 86/100\n",
      "536/536 [==============================] - 2s 3ms/step - loss: 0.4008 - accuracy: 0.8285 - val_loss: 0.4232 - val_accuracy: 0.8183\n",
      "Epoch 87/100\n",
      "536/536 [==============================] - 2s 4ms/step - loss: 0.4005 - accuracy: 0.8283 - val_loss: 0.4231 - val_accuracy: 0.8198\n",
      "Epoch 88/100\n",
      "536/536 [==============================] - 1s 2ms/step - loss: 0.4004 - accuracy: 0.8285 - val_loss: 0.4230 - val_accuracy: 0.8198\n",
      "Epoch 89/100\n",
      "536/536 [==============================] - 1s 2ms/step - loss: 0.4003 - accuracy: 0.8287 - val_loss: 0.4227 - val_accuracy: 0.8194\n",
      "Epoch 90/100\n",
      "536/536 [==============================] - 2s 3ms/step - loss: 0.4001 - accuracy: 0.8296 - val_loss: 0.4226 - val_accuracy: 0.8190\n",
      "Epoch 91/100\n",
      "536/536 [==============================] - 2s 4ms/step - loss: 0.3999 - accuracy: 0.8296 - val_loss: 0.4225 - val_accuracy: 0.8198\n",
      "Epoch 92/100\n",
      "536/536 [==============================] - 1s 2ms/step - loss: 0.3998 - accuracy: 0.8293 - val_loss: 0.4225 - val_accuracy: 0.8190\n",
      "Epoch 93/100\n",
      "536/536 [==============================] - 1s 2ms/step - loss: 0.3996 - accuracy: 0.8300 - val_loss: 0.4223 - val_accuracy: 0.8190\n",
      "Epoch 94/100\n",
      "536/536 [==============================] - 2s 3ms/step - loss: 0.3996 - accuracy: 0.8281 - val_loss: 0.4223 - val_accuracy: 0.8190\n",
      "Epoch 95/100\n",
      "536/536 [==============================] - 2s 4ms/step - loss: 0.3994 - accuracy: 0.8285 - val_loss: 0.4221 - val_accuracy: 0.8190\n",
      "Epoch 96/100\n",
      "536/536 [==============================] - 1s 2ms/step - loss: 0.3991 - accuracy: 0.8300 - val_loss: 0.4221 - val_accuracy: 0.8209\n",
      "Epoch 97/100\n",
      "536/536 [==============================] - 1s 2ms/step - loss: 0.3991 - accuracy: 0.8291 - val_loss: 0.4217 - val_accuracy: 0.8194\n",
      "Epoch 98/100\n",
      "536/536 [==============================] - 1s 3ms/step - loss: 0.3989 - accuracy: 0.8308 - val_loss: 0.4217 - val_accuracy: 0.8194\n",
      "Epoch 99/100\n",
      "536/536 [==============================] - 2s 4ms/step - loss: 0.3989 - accuracy: 0.8293 - val_loss: 0.4214 - val_accuracy: 0.8213\n",
      "Epoch 100/100\n",
      "536/536 [==============================] - 1s 2ms/step - loss: 0.3988 - accuracy: 0.8294 - val_loss: 0.4215 - val_accuracy: 0.8198\n"
     ]
    }
   ],
   "source": [
    "# Fitting the ANN to the Training set\n",
    "model_history=classifier.fit(X_train, y_train,validation_split=0.33, batch_size = 10, epochs = 100)"
   ]
  },
  {
   "cell_type": "code",
   "execution_count": 15,
   "id": "a8446191",
   "metadata": {},
   "outputs": [
    {
     "data": {
      "text/plain": [
       "dict_keys(['loss', 'accuracy', 'val_loss', 'val_accuracy'])"
      ]
     },
     "execution_count": 15,
     "metadata": {},
     "output_type": "execute_result"
    }
   ],
   "source": [
    "model_history.history.keys()"
   ]
  },
  {
   "cell_type": "code",
   "execution_count": 16,
   "id": "545376ba",
   "metadata": {},
   "outputs": [
    {
     "name": "stdout",
     "output_type": "stream",
     "text": [
      "dict_keys(['loss', 'accuracy', 'val_loss', 'val_accuracy'])\n"
     ]
    },
    {
     "data": {
      "image/png": "[encoded data removed]",
      "text/plain": [
       "<Figure size 1008x576 with 1 Axes>"
      ]
     },
     "metadata": {
      "needs_background": "light"
     },
     "output_type": "display_data"
    }
   ],
   "source": [
    "# list all data in history\n",
    "print(model_history.history.keys())\n",
    "# summarize history for accuracy\n",
    "plt.figure(figsize=(14,8))\n",
    "plt.plot(model_history.history['accuracy'])\n",
    "plt.plot(model_history.history['val_accuracy'])\n",
    "plt.title('model accuracy')\n",
    "plt.ylabel('accuracy')\n",
    "plt.xlabel('epoch')\n",
    "plt.legend(['train', 'test'], loc='upper left')\n",
    "plt.show()"
   ]
  },
  {
   "cell_type": "code",
   "execution_count": 17,
   "id": "bc8269ff",
   "metadata": {},
   "outputs": [
    {
     "data": {
      "image/png": "[encoded data removed]",
      "text/plain": [
       "<Figure size 1008x576 with 1 Axes>"
      ]
     },
     "metadata": {
      "needs_background": "light"
     },
     "output_type": "display_data"
    }
   ],
   "source": [
    "# summarize history for loss\n",
    "plt.figure(figsize=(14,8))\n",
    "plt.plot(model_history.history['loss'])\n",
    "plt.plot(model_history.history['val_loss'])\n",
    "plt.title('model loss')\n",
    "plt.ylabel('loss')\n",
    "plt.xlabel('epoch')\n",
    "plt.legend(['train', 'test'], loc='upper left')\n",
    "plt.show()"
   ]
  },
  {
   "cell_type": "markdown",
   "id": "8ff61a31",
   "metadata": {},
   "source": [
    "### Part 3 - Making the predictions and evaluating the model"
   ]
  },
  {
   "cell_type": "code",
   "execution_count": 18,
   "id": "44a34940",
   "metadata": {},
   "outputs": [
    {
     "name": "stdout",
     "output_type": "stream",
     "text": [
      "63/63 [==============================] - 0s 965us/step\n"
     ]
    }
   ],
   "source": [
    "# Predicting the Test set results\n",
    "y_pred = classifier.predict(X_test)\n",
    "y_pred = (y_pred > 0.5)"
   ]
  },
  {
   "cell_type": "code",
   "execution_count": 19,
   "id": "08c96ec6",
   "metadata": {},
   "outputs": [],
   "source": [
    "# Making the Confusion Matrix\n",
    "from sklearn.metrics import confusion_matrix\n",
    "cm = confusion_matrix(y_test, y_pred)"
   ]
  },
  {
   "cell_type": "code",
   "execution_count": 20,
   "id": "97b63b31",
   "metadata": {},
   "outputs": [
    {
     "data": {
      "text/plain": [
       "array([[1546,   49],\n",
       "       [ 270,  135]], dtype=int64)"
      ]
     },
     "execution_count": 20,
     "metadata": {},
     "output_type": "execute_result"
    }
   ],
   "source": [
    "cm"
   ]
  },
  {
   "cell_type": "code",
   "execution_count": 21,
   "id": "5d67873a",
   "metadata": {},
   "outputs": [],
   "source": [
    "# Calculate the Accuracy\n",
    "from sklearn.metrics import accuracy_score\n",
    "score=accuracy_score(y_pred,y_test)"
   ]
  },
  {
   "cell_type": "code",
   "execution_count": 22,
   "id": "3cc44781",
   "metadata": {},
   "outputs": [
    {
     "data": {
      "text/plain": [
       "0.8405"
      ]
     },
     "execution_count": 22,
     "metadata": {},
     "output_type": "execute_result"
    }
   ],
   "source": [
    "score"
   ]
  }
 ],
 "metadata": {
  "kernelspec": {
   "display_name": "Python 3 (ipykernel)",
   "language": "python",
   "name": "python3"
  },
  "language_info": {
   "codemirror_mode": {
    "name": "ipython",
    "version": 3
   },
   "file_extension": ".py",
   "mimetype": "text/x-python",
   "name": "python",
   "nbconvert_exporter": "python",
   "pygments_lexer": "ipython3",
   "version": "3.9.12"
  }
 },
 "nbformat": 4,
 "nbformat_minor": 5
}
